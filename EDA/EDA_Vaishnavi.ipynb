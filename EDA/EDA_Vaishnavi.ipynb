{
 "cells": [
  {
   "cell_type": "code",
   "execution_count": null,
   "id": "33f47a4b",
   "metadata": {},
   "outputs": [],
   "source": [
    "import pandas as pd\n",
    "import numpy as np\n",
    "import matplotlib.pyplot as plt\n",
    "import seaborn as sns\n",
    "from datetime import datetime, timedelta\n",
    "\n",
    "import plotly.express as px\n",
    "\n",
    "import warnings \n",
    "warnings.filterwarnings('ignore')"
   ]
  },
  {
   "cell_type": "code",
   "execution_count": null,
   "id": "0f444490",
   "metadata": {},
   "outputs": [],
   "source": [
    "df_article = pd.read_csv('articles.csv')\n",
    "df_customer = pd.read_csv('customers.csv')\n",
    "df_transaction = pd.read_csv('transactions_train.csv')"
   ]
  },
  {
   "cell_type": "code",
   "execution_count": null,
   "id": "7db2276a",
   "metadata": {},
   "outputs": [],
   "source": [
    "def describe_df(df):\n",
    "    list_item = []\n",
    "    for col in df.columns:\n",
    "        list_item.append([\n",
    "            col,\n",
    "            df[col].dtype,\n",
    "            df[col].isna().sum(),\n",
    "            round(df[col].isna().sum()/len(df[col])*100, 2),\n",
    "            df[col].nunique(),\n",
    "            round(df[col].nunique()/len(df[col])*100, 2),\n",
    "            list(df[col].unique()[:5])\n",
    "        ])\n",
    "    return pd.DataFrame(\n",
    "        columns=['feature', 'type', '# null', '% null', '# unique', '% unique', 'sample'],\n",
    "        data = list_item\n",
    "    )\n",
    "\n",
    "\n"
   ]
  },
  {
   "cell_type": "code",
   "execution_count": null,
   "id": "372bbfca",
   "metadata": {},
   "outputs": [],
   "source": [
    "assert df_customer.customer_id.nunique() == df_customer.shape[0]\n",
    "describe_df(df_customer)"
   ]
  },
  {
   "cell_type": "code",
   "execution_count": null,
   "id": "2d6e0ad3",
   "metadata": {},
   "outputs": [],
   "source": [
    "mapping = {\"FN\": 0, \"Active\": 0, \"club_member_status\": \"N.C\", \"fashion_news_frequency\": \"N.C\", \"age\": 0}\n",
    "\n",
    "df_customer.fillna(value=mapping, inplace=True)\n",
    "df_customer.drop(columns=\"postal_code\", inplace=True)\n",
    "\n",
    "for col in [\"FN\", \"age\", \"Active\"]:\n",
    "    df_customer[col] = df_customer[col].astype(np.int8)"
   ]
  },
  {
   "cell_type": "code",
   "execution_count": null,
   "id": "5a4b676b",
   "metadata": {},
   "outputs": [],
   "source": [
    "assert df_customer.customer_id.nunique() == df_customer.shape[0]\n",
    "describe_df(df_customer)"
   ]
  },
  {
   "cell_type": "code",
   "execution_count": null,
   "id": "02821de9",
   "metadata": {},
   "outputs": [],
   "source": [
    "df_customer.shape"
   ]
  },
  {
   "cell_type": "code",
   "execution_count": null,
   "id": "2be63277",
   "metadata": {},
   "outputs": [],
   "source": [
    "df_transaction.t_dat = pd.to_datetime(df_transaction.t_dat, infer_datetime_format=True)\n",
    "describe_df(df_transaction)"
   ]
  },
  {
   "cell_type": "code",
   "execution_count": null,
   "id": "45339c17",
   "metadata": {},
   "outputs": [],
   "source": [
    "assert df_article.article_id.nunique() == df_article.shape[0]\n",
    "describe_df(df_article)"
   ]
  },
  {
   "cell_type": "code",
   "execution_count": null,
   "id": "43d8a149",
   "metadata": {},
   "outputs": [],
   "source": [
    "df_article.drop(columns='detail_desc',inplace=True)"
   ]
  },
  {
   "cell_type": "code",
   "execution_count": null,
   "id": "9d3e6cd5",
   "metadata": {},
   "outputs": [],
   "source": [
    "assert df_article.article_id.nunique() == df_article.shape[0]\n",
    "describe_df(df_article)"
   ]
  },
  {
   "cell_type": "code",
   "execution_count": null,
   "id": "c82dd7c9",
   "metadata": {},
   "outputs": [],
   "source": [
    "df_art_modified = df_article[['article_id','product_type_name','product_group_name','graphical_appearance_name','colour_group_name','index_name','section_name','garment_group_name']]"
   ]
  },
  {
   "cell_type": "code",
   "execution_count": null,
   "id": "2b1f57a0",
   "metadata": {},
   "outputs": [],
   "source": [
    "df_art_modified.head()"
   ]
  },
  {
   "cell_type": "code",
   "execution_count": null,
   "id": "95723dde",
   "metadata": {},
   "outputs": [],
   "source": [
    "df_transaction.t_dat = pd.to_datetime(df_transaction.t_dat, infer_datetime_format=True)\n",
    "describe_df(df_transaction)"
   ]
  },
  {
   "cell_type": "markdown",
   "id": "abbea3d9",
   "metadata": {},
   "source": [
    "### To find most popular items in last 3 months"
   ]
  },
  {
   "cell_type": "code",
   "execution_count": null,
   "id": "3e6a0567",
   "metadata": {},
   "outputs": [],
   "source": [
    "df = df_transaction.merge(df_art_modified,how='inner', on='article_id')\n",
    "df.head()"
   ]
  },
  {
   "cell_type": "code",
   "execution_count": null,
   "id": "66485f9a",
   "metadata": {},
   "outputs": [],
   "source": [
    "df.columns"
   ]
  },
  {
   "cell_type": "code",
   "execution_count": null,
   "id": "ea227bd9",
   "metadata": {},
   "outputs": [],
   "source": [
    "# Get the max date in the dataset\n",
    "max_date = df['t_dat'].max()\n",
    "max_date"
   ]
  },
  {
   "cell_type": "code",
   "execution_count": null,
   "id": "4f59b1a7",
   "metadata": {},
   "outputs": [],
   "source": [
    "# Filter for last 3 months\n",
    "last_3_months = df[df['t_dat'] >= (max_date - pd.DateOffset(months=3))]\n",
    "last_3_months.head()"
   ]
  },
  {
   "cell_type": "code",
   "execution_count": null,
   "id": "e0deb091",
   "metadata": {},
   "outputs": [],
   "source": [
    "# Count article popularity\n",
    "top_articles = (\n",
    "    last_3_months['article_id']\n",
    "    .value_counts()\n",
    "    .head(10)\n",
    "    .reset_index()\n",
    ")"
   ]
  },
  {
   "cell_type": "code",
   "execution_count": null,
   "id": "29ff63f0",
   "metadata": {},
   "outputs": [],
   "source": [
    "top_articles"
   ]
  },
  {
   "cell_type": "code",
   "execution_count": null,
   "id": "9922c90a",
   "metadata": {},
   "outputs": [],
   "source": [
    "# Get article metadata (first occurrence per article)\n",
    "article_metadata = df.drop_duplicates(subset='article_id')[[\n",
    "    'article_id', 'product_type_name', 'product_group_name',\n",
    "    'graphical_appearance_name', 'colour_group_name', 'index_name',\n",
    "    'section_name', 'garment_group_name'\n",
    "]]"
   ]
  },
  {
   "cell_type": "code",
   "execution_count": null,
   "id": "fa28af32",
   "metadata": {},
   "outputs": [],
   "source": [
    "# Merge top articles with metadata\n",
    "top_articles = top_articles.merge(article_metadata, on='article_id', how='left')\n",
    "\n",
    "top_articles.head()"
   ]
  },
  {
   "cell_type": "markdown",
   "id": "618b5a12",
   "metadata": {},
   "source": [
    "### Top 5 articlea in in each meta data category in last 3 months"
   ]
  },
  {
   "cell_type": "code",
   "execution_count": null,
   "id": "465cf538",
   "metadata": {},
   "outputs": [],
   "source": [
    "# List of metadata columns\n",
    "metadata_columns = [\n",
    "    'product_type_name', 'product_group_name', 'graphical_appearance_name',\n",
    "    'colour_group_name', 'index_name', 'section_name', 'garment_group_name'\n",
    "]\n",
    "\n",
    "# Compute popularity per article\n",
    "article_counts = (\n",
    "    last_3_months.groupby('article_id')\n",
    "    .size()\n",
    "    .reset_index(name='purchase_count')\n",
    ")\n",
    "\n",
    "# Add metadata by merging with original data (to get article attributes)\n",
    "article_metadata = df.drop_duplicates('article_id')[\n",
    "    ['article_id'] + metadata_columns\n",
    "]\n",
    "article_popularity = article_counts.merge(article_metadata, on='article_id', how='left')"
   ]
  },
  {
   "cell_type": "code",
   "execution_count": null,
   "id": "6ba93cf0",
   "metadata": {},
   "outputs": [],
   "source": [
    "# Get top 5 popular articles per metadata group\n",
    "top_5_by_metadata = {}\n",
    "\n",
    "for col in metadata_columns:\n",
    "    top_items = (\n",
    "        article_popularity.groupby(col)\n",
    "        .apply(lambda x: x.sort_values(by='purchase_count', ascending=False).head(5))\n",
    "        .reset_index(drop=True)[[col, 'article_id']]\n",
    "    )\n",
    "    top_5_by_metadata[col] = top_items\n",
    "\n",
    "# Example output: top 5 articles per 'product_type_name'\n",
    "print(\"Top 5 by product_type_name:\")\n",
    "print(top_5_by_metadata['product_type_name'])\n",
    "\n"
   ]
  },
  {
   "cell_type": "code",
   "execution_count": null,
   "id": "474f157a",
   "metadata": {},
   "outputs": [],
   "source": [
    "for col in metadata_columns:\n",
    "    df_top = top_5_by_metadata[col]\n",
    "\n",
    "    print(f\"\\n🔹 Insights for {col.replace('_', ' ').title()}:\")\n",
    "    print(f\"  Number of unique article_ids in top 5 per group: {df_top['article_id'].nunique()}\")\n",
    "\n",
    "    # Top 3 metadata values with most frequent top articles\n",
    "    top_values = df_top[col].value_counts().head(3)\n",
    "    for val, count in top_values.items():\n",
    "        print(f\"   - '{val}' appeared in top 5 list of {count} groups\")\n",
    "\n",
    "    # Show which articles dominate a category\n",
    "    most_frequent_articles = df_top['article_id'].value_counts().head(3)\n",
    "    for art_id, freq in most_frequent_articles.items():\n",
    "        print(f\"   - Article ID {art_id} appeared in top 5 of {freq} different {col} groups\")\n"
   ]
  },
  {
   "cell_type": "code",
   "execution_count": null,
   "id": "dcb9100d",
   "metadata": {},
   "outputs": [],
   "source": [
    "# Categories to analyze\n",
    "selected_categories = ['product_type_name', 'product_group_name', 'section_name', 'garment_group_name']\n",
    "\n",
    "# Merge all top 5 metadata DataFrames to find global top colour values\n",
    "all_colour_data = pd.DataFrame()\n",
    "for cat in selected_categories:\n",
    "    df_cat = top_5_by_metadata[cat].merge(\n",
    "        article_metadata[['article_id', 'colour_group_name']],\n",
    "        on='article_id', how='left'\n",
    "    )\n",
    "    df_cat['category'] = cat\n",
    "    all_colour_data = pd.concat([all_colour_data, df_cat], ignore_index=True)\n",
    "\n",
    "# Get unique colour groups (sorted alphabetically for consistent color mapping)\n",
    "unique_colours = sorted(all_colour_data['colour_group_name'].dropna().unique())\n",
    "\n",
    "# Create a fixed color palette\n",
    "palette = sns.color_palette(\"Set2\", n_colors=len(unique_colours))\n",
    "colour_mapping = dict(zip(unique_colours, palette))\n",
    "\n",
    "# Set seaborn style\n",
    "sns.set(style=\"whitegrid\")\n",
    "\n",
    "# Plot per category\n",
    "for cat in selected_categories:\n",
    "    df_plot = top_5_by_metadata[cat].merge(\n",
    "        article_metadata[['article_id', 'colour_group_name']],\n",
    "        on='article_id', how='left'\n",
    "    )\n",
    "\n",
    "    # Top 5 values in the category (by count)\n",
    "    top5_vals = df_plot[cat].value_counts().nlargest(5).index\n",
    "    df_plot = df_plot[df_plot[cat].isin(top5_vals)]\n",
    "\n",
    "    # Plot\n",
    "    plt.figure(figsize=(10, 6))\n",
    "    sns.countplot(\n",
    "        data=df_plot,\n",
    "        x=cat,\n",
    "        hue='colour_group_name',\n",
    "        palette=colour_mapping,\n",
    "        order=top5_vals\n",
    "    )\n",
    "\n",
    "    plt.title(f\"🎨 Colour Popularity in Top 5 {cat.replace('_', ' ').title()}s\")\n",
    "    plt.xlabel(cat.replace('_', ' ').title())\n",
    "    plt.ylabel(\"Count (Top Articles)\")\n",
    "    plt.xticks(rotation=30, ha='right')\n",
    "    plt.legend(title='Colour Group', bbox_to_anchor=(1.05, 1), loc='upper left')\n",
    "    plt.tight_layout()\n",
    "    plt.show()\n",
    "\n"
   ]
  },
  {
   "cell_type": "code",
   "execution_count": null,
   "id": "d7ca2448",
   "metadata": {},
   "outputs": [],
   "source": [
    "last_3_months = last_3_months.merge(df_customer,on='customer_id',how='inner')"
   ]
  },
  {
   "cell_type": "code",
   "execution_count": null,
   "id": "807378eb",
   "metadata": {},
   "outputs": [],
   "source": [
    "last_3_months.head()"
   ]
  },
  {
   "cell_type": "code",
   "execution_count": null,
   "id": "3f346003",
   "metadata": {},
   "outputs": [],
   "source": [
    "last_3_months.columns"
   ]
  },
  {
   "cell_type": "code",
   "execution_count": null,
   "id": "08b27435",
   "metadata": {},
   "outputs": [],
   "source": [
    "# Create age group bins\n",
    "age_bins = [0, 10, 20, 30, 40, 50, 200]\n",
    "age_labels = ['0-10', '10-20', '20-30', '30-40', '40-50', '50+']\n",
    "last_3_months['age_group'] = pd.cut(last_3_months['age'], bins=age_bins, labels=age_labels, right=False)\n",
    "\n",
    "\n",
    "\n",
    "# Count article purchases per age group\n",
    "article_counts = (\n",
    "    last_3_months.groupby(['age_group', 'article_id'])\n",
    "    .size()\n",
    "    .reset_index(name='purchase_count')\n",
    ")\n",
    "\n",
    "# Get Top 5 articles in each age group\n",
    "top5_per_age_group = (\n",
    "    article_counts.sort_values(['age_group', 'purchase_count'], ascending=[True, False])\n",
    "    .groupby('age_group')\n",
    "    .head(5)\n",
    "    .reset_index(drop=True)\n",
    ")\n",
    "\n",
    "print(top5_per_age_group)"
   ]
  },
  {
   "cell_type": "code",
   "execution_count": null,
   "id": "1f2bf4d2",
   "metadata": {},
   "outputs": [],
   "source": [
    "top5_with_meta = top5_per_age_group.merge(\n",
    "    last_3_months.drop_duplicates('article_id')[\n",
    "        ['article_id', 'product_type_name', 'colour_group_name']\n",
    "    ],\n",
    "    on='article_id',\n",
    "    how='left'\n",
    ")"
   ]
  },
  {
   "cell_type": "code",
   "execution_count": null,
   "id": "e1167ffc",
   "metadata": {},
   "outputs": [],
   "source": [
    "top5_with_meta.head()"
   ]
  },
  {
   "cell_type": "code",
   "execution_count": null,
   "id": "8fd553a0",
   "metadata": {},
   "outputs": [],
   "source": [
    "# Set Seaborn style\n",
    "sns.set(style=\"whitegrid\")\n",
    "\n",
    "# Plot: One chart per age group\n",
    "age_groups = top5_with_meta['age_group'].unique()\n",
    "\n",
    "for age in age_groups:\n",
    "    # Filter data for the age group\n",
    "    df_age = top5_with_meta[top5_with_meta['age_group'] == age]\n",
    "\n",
    "    # Group by product type and sum purchase counts\n",
    "    top_types = (\n",
    "        df_age.groupby('product_type_name')['purchase_count']\n",
    "        .sum()\n",
    "        .sort_values(ascending=False)\n",
    "        .head(5)\n",
    "        .reset_index()\n",
    "    )\n",
    "\n",
    "    # Plot\n",
    "    plt.figure(figsize=(8, 5))\n",
    "    sns.barplot(\n",
    "        data=top_types,\n",
    "        x='purchase_count',\n",
    "        y='product_type_name',\n",
    "        palette='coolwarm'\n",
    "    )\n",
    "\n",
    "    plt.title(f\"Top Product Types in Age Group {age}\")\n",
    "    plt.xlabel(\"Total Purchases\")\n",
    "    plt.ylabel(\"Product Type\")\n",
    "    plt.tight_layout()\n",
    "    plt.show()\n"
   ]
  },
  {
   "cell_type": "code",
   "execution_count": null,
   "id": "05869c9a",
   "metadata": {},
   "outputs": [],
   "source": [
    "# Set style\n",
    "sns.set(style=\"whitegrid\")\n",
    "\n",
    "# Unique age groups\n",
    "age_groups = top5_with_meta['age_group'].unique()\n",
    "\n",
    "for age in age_groups:\n",
    "    # Filter data for this age group\n",
    "    df_age = top5_with_meta[top5_with_meta['age_group'] == age]\n",
    "\n",
    "    # Group by colour and sum purchases\n",
    "    top_colours = (\n",
    "        df_age.groupby('colour_group_name')['purchase_count']\n",
    "        .sum()\n",
    "        .sort_values(ascending=False)\n",
    "        .head(5)\n",
    "        .reset_index()\n",
    "    )\n",
    "\n",
    "    # Plot\n",
    "    plt.figure(figsize=(8, 5))\n",
    "    sns.barplot(\n",
    "        data=top_colours,\n",
    "        x='purchase_count',\n",
    "        y='colour_group_name',\n",
    "        palette='Set2'  # You can replace with your real_colour_mapping if needed\n",
    "    )\n",
    "\n",
    "    plt.title(f\"Top Colours in Age Group {age}\")\n",
    "    plt.xlabel(\"Total Purchases\")\n",
    "    plt.ylabel(\"Colour Group\")\n",
    "    plt.tight_layout()\n",
    "    plt.show()\n"
   ]
  },
  {
   "cell_type": "code",
   "execution_count": null,
   "id": "f0cf7ed7",
   "metadata": {},
   "outputs": [],
   "source": [
    "# Function to assign season based on month\n",
    "def get_season(date):\n",
    "    month = date.month\n",
    "    if month in [3, 4, 5]:\n",
    "        return 'Spring'\n",
    "    elif month in [6, 7, 8]:\n",
    "        return 'Summer'\n",
    "    elif month in [9, 10, 11]:\n",
    "        return 'Autumn'\n",
    "    else:  # months 12, 1, 2\n",
    "        return 'Winter'\n",
    "\n",
    "# Apply function\n",
    "df['season'] = df['t_dat'].apply(get_season)"
   ]
  },
  {
   "cell_type": "code",
   "execution_count": null,
   "id": "7299dd5d",
   "metadata": {},
   "outputs": [],
   "source": [
    "df.columns"
   ]
  },
  {
   "cell_type": "code",
   "execution_count": null,
   "id": "195190a0",
   "metadata": {},
   "outputs": [],
   "source": [
    "# Group by season and product type, summing purchases\n",
    "season_product_counts = (\n",
    "    df.groupby(['season', 'product_type_name'])\n",
    "    .size()\n",
    "    .reset_index(name='purchase_count')\n",
    ")\n",
    "\n",
    "# Get top product type for each season\n",
    "top_product_per_season = (\n",
    "    season_product_counts\n",
    "    .sort_values(['season', 'purchase_count'], ascending=[True, False])\n",
    "    .groupby('season')\n",
    "    .head(1)\n",
    "    .reset_index(drop=True)\n",
    ")\n",
    "\n",
    "print(top_product_per_season)\n"
   ]
  },
  {
   "cell_type": "code",
   "execution_count": null,
   "id": "758cfad4",
   "metadata": {},
   "outputs": [],
   "source": [
    "# Group and count purchases per product type per season\n",
    "season_product_counts = (\n",
    "    df.groupby(['season', 'product_type_name'])\n",
    "    .size()\n",
    "    .reset_index(name='purchase_count')\n",
    ")\n",
    "\n",
    "# Sort and get top 5 product types per season\n",
    "top5_products_per_season = (\n",
    "    season_product_counts\n",
    "    .sort_values(['season', 'purchase_count'], ascending=[True, False])\n",
    "    .groupby('season')\n",
    "    .head(5)\n",
    "    .reset_index(drop=True)\n",
    ")\n",
    "g = sns.catplot(\n",
    "    data=top5_products_per_season,\n",
    "    kind=\"bar\",\n",
    "    x=\"purchase_count\",\n",
    "    y=\"product_type_name\",\n",
    "    col=\"season\",\n",
    "    col_wrap=2,\n",
    "    sharex=False,\n",
    "    height=4,\n",
    "    palette=\"Set2\"\n",
    ")\n",
    "\n",
    "g.fig.subplots_adjust(top=0.9)\n",
    "g.fig.suptitle(\"Top 5 Product Types per Season\")\n",
    "g.set_axis_labels(\"Purchases\", \"Product Type\")\n",
    "plt.show()\n"
   ]
  },
  {
   "cell_type": "code",
   "execution_count": null,
   "id": "9b859c71",
   "metadata": {},
   "outputs": [],
   "source": [
    "# Sort by date to maintain time order\n",
    "df = df.sort_values('t_dat')\n",
    "\n",
    "# Step 2: Split into train (e.g. 80%) and test (20%) based on time\n",
    "cutoff_date = df['t_dat'].quantile(0.8)\n",
    "train_df = df[df['t_dat'] <= cutoff_date]\n",
    "test_df = df[df['t_dat'] > cutoff_date]"
   ]
  },
  {
   "cell_type": "code",
   "execution_count": null,
   "id": "f51dc138",
   "metadata": {},
   "outputs": [],
   "source": [
    "# Count number of purchases per article\n",
    "article_popularity = (\n",
    "    train_df.groupby('article_id')\n",
    "    .size()\n",
    "    .reset_index(name='purchase_count')\n",
    "    .sort_values('purchase_count', ascending=False)\n",
    ")\n",
    "\n",
    "# Top N popular articles\n",
    "top_n = 10\n",
    "top_articles = article_popularity['article_id'].head(top_n).tolist()\n"
   ]
  },
  {
   "cell_type": "code",
   "execution_count": null,
   "id": "233be68a",
   "metadata": {},
   "outputs": [],
   "source": [
    "# Unique test users\n",
    "test_users = test_df['customer_id'].unique()\n",
    "\n",
    "# Create recommendations for each test user\n",
    "recommendations = pd.DataFrame({\n",
    "    'customer_id': test_users.repeat(top_n),\n",
    "    'predicted_article_id': top_articles * len(test_users)\n",
    "})\n"
   ]
  },
  {
   "cell_type": "code",
   "execution_count": null,
   "id": "cc62255e",
   "metadata": {},
   "outputs": [],
   "source": [
    "recommendations"
   ]
  },
  {
   "cell_type": "code",
   "execution_count": null,
   "id": "7caec930",
   "metadata": {},
   "outputs": [],
   "source": [
    "# Actual purchases in test set\n",
    "actual_purchases = test_df[['customer_id', 'article_id']].drop_duplicates()\n",
    "\n",
    "# Merge with recommendations to check hits\n",
    "hits = pd.merge(recommendations, actual_purchases, \n",
    "                left_on=['customer_id', 'predicted_article_id'], \n",
    "                right_on=['customer_id', 'article_id'], \n",
    "                how='inner')\n",
    "\n",
    "# Precision@10\n",
    "precision = hits.groupby('customer_id').size().mean() / top_n\n",
    "print(f\"Precision@{top_n}: {precision:.4f}\")\n"
   ]
  },
  {
   "cell_type": "code",
   "execution_count": null,
   "id": "bb6abf69",
   "metadata": {},
   "outputs": [],
   "source": []
  }
 ],
 "metadata": {
  "kernelspec": {
   "display_name": "Python 3",
   "language": "python",
   "name": "python3"
  },
  "language_info": {
   "codemirror_mode": {
    "name": "ipython",
    "version": 3
   },
   "file_extension": ".py",
   "mimetype": "text/x-python",
   "name": "python",
   "nbconvert_exporter": "python",
   "pygments_lexer": "ipython3",
   "version": "3.12.10"
  }
 },
 "nbformat": 4,
 "nbformat_minor": 5
}
